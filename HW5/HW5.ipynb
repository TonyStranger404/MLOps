{
 "cells": [
  {
   "cell_type": "markdown",
   "id": "dd09cc0c0f29b982",
   "metadata": {
    "collapsed": false,
    "jupyter": {
     "outputs_hidden": false
    }
   },
   "source": [
    "# HW5"
   ]
  },
  {
   "cell_type": "markdown",
   "id": "13c9603fe3fc3e6e",
   "metadata": {
    "collapsed": false,
    "jupyter": {
     "outputs_hidden": false
    }
   },
   "source": [
    "## Установка библиотек"
   ]
  },
  {
   "cell_type": "code",
   "execution_count": 3,
   "id": "initial_id",
   "metadata": {
    "ExecuteTime": {
     "end_time": "2024-05-07T13:23:22.653134Z",
     "start_time": "2024-05-07T13:23:10.891823Z"
    }
   },
   "outputs": [
    {
     "name": "stdout",
     "output_type": "stream",
     "text": [
      "Requirement already satisfied: ipytest in c:\\users\\настя\\pycharmprojects\\mlo\\venv\\lib\\site-packages (0.14.2)"
     ]
    },
    {
     "name": "stderr",
     "output_type": "stream",
     "text": [
      "\n",
      "[notice] A new release of pip available: 22.3.1 -> 24.0\n",
      "[notice] To update, run: python.exe -m pip install --upgrade pip\n"
     ]
    },
    {
     "name": "stdout",
     "output_type": "stream",
     "text": [
      "\n",
      "Requirement already satisfied: ipython in c:\\users\\настя\\pycharmprojects\\mlo\\venv\\lib\\site-packages (from ipytest) (8.24.0)\n",
      "Requirement already satisfied: packaging in c:\\users\\настя\\pycharmprojects\\mlo\\venv\\lib\\site-packages (from ipytest) (24.0)\n",
      "Requirement already satisfied: pytest>=5.4 in c:\\users\\настя\\pycharmprojects\\mlo\\venv\\lib\\site-packages (from ipytest) (8.2.0)\n",
      "Requirement already satisfied: iniconfig in c:\\users\\настя\\pycharmprojects\\mlo\\venv\\lib\\site-packages (from pytest>=5.4->ipytest) (2.0.0)\n",
      "Requirement already satisfied: pluggy<2.0,>=1.5 in c:\\users\\настя\\pycharmprojects\\mlo\\venv\\lib\\site-packages (from pytest>=5.4->ipytest) (1.5.0)\n",
      "Requirement already satisfied: colorama in c:\\users\\настя\\pycharmprojects\\mlo\\venv\\lib\\site-packages (from pytest>=5.4->ipytest) (0.4.6)\n",
      "Requirement already satisfied: decorator in c:\\users\\настя\\pycharmprojects\\mlo\\venv\\lib\\site-packages (from ipython->ipytest) (5.1.1)\n",
      "Requirement already satisfied: jedi>=0.16 in c:\\users\\настя\\pycharmprojects\\mlo\\venv\\lib\\site-packages (from ipython->ipytest) (0.19.1)\n",
      "Requirement already satisfied: matplotlib-inline in c:\\users\\настя\\pycharmprojects\\mlo\\venv\\lib\\site-packages (from ipython->ipytest) (0.1.7)\n",
      "Requirement already satisfied: prompt-toolkit<3.1.0,>=3.0.41 in c:\\users\\настя\\pycharmprojects\\mlo\\venv\\lib\\site-packages (from ipython->ipytest) (3.0.43)\n",
      "Requirement already satisfied: pygments>=2.4.0 in c:\\users\\настя\\pycharmprojects\\mlo\\venv\\lib\\site-packages (from ipython->ipytest) (2.18.0)\n",
      "Requirement already satisfied: stack-data in c:\\users\\настя\\pycharmprojects\\mlo\\venv\\lib\\site-packages (from ipython->ipytest) (0.6.3)\n",
      "Requirement already satisfied: traitlets>=5.13.0 in c:\\users\\настя\\pycharmprojects\\mlo\\venv\\lib\\site-packages (from ipython->ipytest) (5.14.3)\n",
      "Requirement already satisfied: typing-extensions>=4.6 in c:\\users\\настя\\pycharmprojects\\mlo\\venv\\lib\\site-packages (from ipython->ipytest) (4.11.0)\n",
      "Requirement already satisfied: parso<0.9.0,>=0.8.3 in c:\\users\\настя\\pycharmprojects\\mlo\\venv\\lib\\site-packages (from jedi>=0.16->ipython->ipytest) (0.8.4)\n",
      "Requirement already satisfied: wcwidth in c:\\users\\настя\\pycharmprojects\\mlo\\venv\\lib\\site-packages (from prompt-toolkit<3.1.0,>=3.0.41->ipython->ipytest) (0.2.13)\n",
      "Requirement already satisfied: executing>=1.2.0 in c:\\users\\настя\\pycharmprojects\\mlo\\venv\\lib\\site-packages (from stack-data->ipython->ipytest) (2.0.1)\n",
      "Requirement already satisfied: asttokens>=2.1.0 in c:\\users\\настя\\pycharmprojects\\mlo\\venv\\lib\\site-packages (from stack-data->ipython->ipytest) (2.4.1)\n",
      "Requirement already satisfied: pure-eval in c:\\users\\настя\\pycharmprojects\\mlo\\venv\\lib\\site-packages (from stack-data->ipython->ipytest) (0.2.2)\n",
      "Requirement already satisfied: six>=1.12.0 in c:\\users\\настя\\pycharmprojects\\mlo\\venv\\lib\\site-packages (from asttokens>=2.1.0->stack-data->ipython->ipytest) (1.16.0)\n",
      "Collecting numpy\n",
      "  Using cached numpy-1.26.4-cp311-cp311-win_amd64.whl (15.8 MB)\n",
      "Installing collected packages: numpy\n",
      "Successfully installed numpy-1.26.4\n"
     ]
    },
    {
     "name": "stderr",
     "output_type": "stream",
     "text": [
      "\n",
      "[notice] A new release of pip available: 22.3.1 -> 24.0\n",
      "[notice] To update, run: python.exe -m pip install --upgrade pip\n"
     ]
    },
    {
     "name": "stdout",
     "output_type": "stream",
     "text": [
      "Collecting pandas\n",
      "  Downloading pandas-2.2.2-cp311-cp311-win_amd64.whl (11.6 MB)\n",
      "     ---------------------------------------- 11.6/11.6 MB 9.5 MB/s eta 0:00:00\n",
      "Requirement already satisfied: numpy>=1.23.2 in c:\\users\\настя\\pycharmprojects\\mlo\\venv\\lib\\site-packages (from pandas) (1.26.4)\n",
      "Requirement already satisfied: python-dateutil>=2.8.2 in c:\\users\\настя\\pycharmprojects\\mlo\\venv\\lib\\site-packages (from pandas) (2.9.0.post0)\n",
      "Collecting pytz>=2020.1\n",
      "  Using cached pytz-2024.1-py2.py3-none-any.whl (505 kB)\n",
      "Collecting tzdata>=2022.7\n",
      "  Using cached tzdata-2024.1-py2.py3-none-any.whl (345 kB)\n",
      "Requirement already satisfied: six>=1.5 in c:\\users\\настя\\pycharmprojects\\mlo\\venv\\lib\\site-packages (from python-dateutil>=2.8.2->pandas) (1.16.0)\n",
      "Installing collected packages: pytz, tzdata, pandas\n",
      "Successfully installed pandas-2.2.2 pytz-2024.1 tzdata-2024.1\n"
     ]
    },
    {
     "name": "stderr",
     "output_type": "stream",
     "text": [
      "\n",
      "[notice] A new release of pip available: 22.3.1 -> 24.0\n",
      "[notice] To update, run: python.exe -m pip install --upgrade pip\n"
     ]
    },
    {
     "name": "stdout",
     "output_type": "stream",
     "text": [
      "Collecting scikit-learn\n",
      "  Downloading scikit_learn-1.4.2-cp311-cp311-win_amd64.whl (10.6 MB)\n",
      "     ---------------------------------------- 10.6/10.6 MB 8.6 MB/s eta 0:00:00\n",
      "Requirement already satisfied: numpy>=1.19.5 in c:\\users\\настя\\pycharmprojects\\mlo\\venv\\lib\\site-packages (from scikit-learn) (1.26.4)\n",
      "Collecting scipy>=1.6.0\n",
      "  Downloading scipy-1.13.0-cp311-cp311-win_amd64.whl (46.2 MB)\n",
      "     ---------------------------------------- 46.2/46.2 MB 8.2 MB/s eta 0:00:00\n",
      "Collecting joblib>=1.2.0\n",
      "  Downloading joblib-1.4.2-py3-none-any.whl (301 kB)\n",
      "     -------------------------------------- 301.8/301.8 kB 9.4 MB/s eta 0:00:00\n",
      "Collecting threadpoolctl>=2.0.0\n",
      "  Downloading threadpoolctl-3.5.0-py3-none-any.whl (18 kB)\n",
      "Installing collected packages: threadpoolctl, scipy, joblib, scikit-learn\n",
      "Successfully installed joblib-1.4.2 scikit-learn-1.4.2 scipy-1.13.0 threadpoolctl-3.5.0\n"
     ]
    },
    {
     "name": "stderr",
     "output_type": "stream",
     "text": [
      "\n",
      "[notice] A new release of pip available: 22.3.1 -> 24.0\n",
      "[notice] To update, run: python.exe -m pip install --upgrade pip\n"
     ]
    }
   ],
   "source": [
    "!pip install ipytest\n",
    "!pip install numpy\n",
    "!pip install pandas\n",
    "!pip install scikit-learn"
   ]
  },
  {
   "cell_type": "code",
   "execution_count": 4,
   "id": "1143151c621e1f1",
   "metadata": {
    "ExecuteTime": {
     "end_time": "2024-05-07T13:23:26.847232Z",
     "start_time": "2024-05-07T13:23:22.649632Z"
    },
    "collapsed": false,
    "jupyter": {
     "outputs_hidden": false
    }
   },
   "outputs": [],
   "source": [
    "import numpy as np\n",
    "import pandas as pd\n",
    "from sklearn.model_selection import train_test_split\n",
    "from sklearn.linear_model import LinearRegression\n",
    "from sklearn.metrics import mean_squared_error\n",
    "import ipytest"
   ]
  },
  {
   "cell_type": "markdown",
   "id": "b3b6e631c5403c2f",
   "metadata": {
    "collapsed": false,
    "jupyter": {
     "outputs_hidden": false
    }
   },
   "source": [
    "### Создание исходного датасета"
   ]
  },
  {
   "cell_type": "code",
   "execution_count": 8,
   "id": "e5b6f7aace5deb75",
   "metadata": {
    "ExecuteTime": {
     "end_time": "2024-05-07T13:23:26.970886Z",
     "start_time": "2024-05-07T13:23:26.852644Z"
    },
    "collapsed": false,
    "jupyter": {
     "outputs_hidden": false
    }
   },
   "outputs": [
    {
     "name": "stdout",
     "output_type": "stream",
     "text": [
      "   Feature_1  Feature_2  Feature_3  Feature_4  Feature_5  Feature_6    Target\n",
      "0   0.848818   0.015004   0.769198   0.992033   0.351031   0.219810  8.456337\n",
      "1   0.178896   0.899727   0.540825   0.708303   0.324327   0.084542  7.032959\n",
      "2   0.054363   0.615400   0.268264   0.413774   0.847675   0.483278  7.286109\n",
      "3   0.361538   0.970942   0.733031   0.001445   0.383634   0.406150  3.346356\n",
      "4   0.275401   0.621620   0.007332   0.933032   0.484602   0.830255  6.589761\n"
     ]
    }
   ],
   "source": [
    "# Установка параметров\n",
    "np.random.seed(15)  # для воспроизводимости результатов\n",
    "num_samples = 100  # количество примеров\n",
    "\n",
    "# Генерация случайных признаков\n",
    "data = {\n",
    "    'Feature_1': np.random.rand(num_samples),\n",
    "    'Feature_2': np.random.rand(num_samples),\n",
    "    'Feature_3': np.random.rand(num_samples),\n",
    "    'Feature_4': np.random.rand(num_samples),\n",
    "    'Feature_5': np.random.rand(num_samples),\n",
    "    'Feature_6': np.random.rand(num_samples),\n",
    "    'Target': np.random.rand(num_samples) * 10\n",
    "}\n",
    "\n",
    "# Создание DataFrame\n",
    "df = pd.DataFrame(data)\n",
    "\n",
    "# Показать первые несколько строк DataFrame\n",
    "print(df.head())"
   ]
  },
  {
   "cell_type": "markdown",
   "id": "1b30da74e2af6edd",
   "metadata": {
    "collapsed": false,
    "jupyter": {
     "outputs_hidden": false
    }
   },
   "source": [
    "### Обучение модели линейной регрессии"
   ]
  },
  {
   "cell_type": "code",
   "execution_count": 11,
   "id": "53590a56963e17bd",
   "metadata": {
    "ExecuteTime": {
     "end_time": "2024-05-07T13:23:26.973644Z",
     "start_time": "2024-05-07T13:23:26.895798Z"
    },
    "collapsed": false,
    "jupyter": {
     "outputs_hidden": false
    }
   },
   "outputs": [
    {
     "name": "stdout",
     "output_type": "stream",
     "text": [
      "MSE on Test Data: 6.783296977388879\n"
     ]
    }
   ],
   "source": [
    "# Разделение данных на обучающую и тестовую выборку\n",
    "X = df.drop('Target', axis=1)\n",
    "y = df['Target']\n",
    "X_train, X_test, y_train, y_test = train_test_split(X, y, test_size=0.2, random_state=42)\n",
    "\n",
    "# Обучение модели линейной регрессии\n",
    "model = LinearRegression()\n",
    "model.fit(X_train, y_train)\n",
    "\n",
    "# Оценка модели на тестовой выборке\n",
    "predictions = model.predict(X_test)\n",
    "mse = mean_squared_error(y_test, predictions)\n",
    "print(\"MSE on Test Data:\", mse)"
   ]
  },
  {
   "cell_type": "markdown",
   "id": "eeedfc28b802d8b0",
   "metadata": {
    "collapsed": false,
    "jupyter": {
     "outputs_hidden": false
    }
   },
   "source": [
    "### Создание датасета с шумом"
   ]
  },
  {
   "cell_type": "code",
   "execution_count": 12,
   "id": "5c9c2e2a0869afeb",
   "metadata": {
    "ExecuteTime": {
     "end_time": "2024-05-07T13:23:27.035723Z",
     "start_time": "2024-05-07T13:23:26.945902Z"
    },
    "collapsed": false,
    "jupyter": {
     "outputs_hidden": false
    }
   },
   "outputs": [
    {
     "name": "stdout",
     "output_type": "stream",
     "text": [
      "DataFrame with noisy features:\n",
      "   Feature_1  Feature_2  Feature_3  Feature_4  Feature_5  Feature_6    Target\n",
      "0   0.805127   0.010169   0.767988   1.204588   0.337916   0.230433  8.456337\n",
      "1   0.282924   1.002506   0.641715   0.482032   0.306608   0.050532  7.032959\n",
      "2   0.028744   0.651346   0.376298   0.455673   0.776808   0.443425  7.286109\n",
      "3   0.148245   0.844054   0.902756   0.000696   0.181087   0.362463  3.346356\n",
      "4   0.304301   0.665132  -0.157477   0.868826   0.661500   1.216180  6.589761\n"
     ]
    }
   ],
   "source": [
    "# Генерация шума для признаков\n",
    "noise_level = 0.13  # Уровень шума\n",
    "feature_noise = np.random.randn(num_samples, 6) * noise_level\n",
    "\n",
    "# Добавление шума к данным\n",
    "noisy_features_data = data.copy()\n",
    "for i in range(1, 7):\n",
    "    noisy_features_data[f'Feature_{i}'] += feature_noise[:, i-1]\n",
    "\n",
    "# Создание DataFrame с шумными признаками\n",
    "df_noisy_features = pd.DataFrame(noisy_features_data)\n",
    "print(\"DataFrame with noisy features:\")\n",
    "print(df_noisy_features.head())\n"
   ]
  },
  {
   "cell_type": "code",
   "execution_count": 13,
   "id": "832b57b85f4473e",
   "metadata": {
    "ExecuteTime": {
     "end_time": "2024-05-07T13:23:27.263454Z",
     "start_time": "2024-05-07T13:23:26.983529Z"
    },
    "collapsed": false,
    "jupyter": {
     "outputs_hidden": false
    }
   },
   "outputs": [
    {
     "name": "stdout",
     "output_type": "stream",
     "text": [
      "DataFrame with noisy target:\n",
      "   Feature_1  Feature_2  Feature_3  Feature_4  Feature_5  Feature_6    Target\n",
      "0   0.805127   0.010169   0.767988   1.204588   0.337916   0.230433  8.672054\n",
      "1   0.282924   1.002506   0.641715   0.482032   0.306608   0.050532  5.366575\n",
      "2   0.028744   0.651346   0.376298   0.455673   0.776808   0.443425  4.652433\n",
      "3   0.148245   0.844054   0.902756   0.000696   0.181087   0.362463  3.993929\n",
      "4   0.304301   0.665132  -0.157477   0.868826   0.661500   1.216180  4.853662\n"
     ]
    }
   ],
   "source": [
    "# Генерация шума для целевой переменной\n",
    "target_noise = np.random.randn(num_samples) * noise_level * 10\n",
    "\n",
    "# Добавление шума к целевой переменной\n",
    "noisy_target_data = data.copy()\n",
    "noisy_target_data['Target'] += target_noise\n",
    "\n",
    "# Создание DataFrame с шумной целевой переменной\n",
    "df_noisy_target = pd.DataFrame(noisy_target_data)\n",
    "print(\"DataFrame with noisy target:\")\n",
    "print(df_noisy_target.head())\n"
   ]
  },
  {
   "cell_type": "markdown",
   "id": "964428a8c4be2185",
   "metadata": {
    "collapsed": false,
    "jupyter": {
     "outputs_hidden": false
    }
   },
   "source": [
    "### Написание тестов с использованием pytest"
   ]
  },
  {
   "cell_type": "code",
   "execution_count": 15,
   "id": "9920589033d1e98f",
   "metadata": {
    "ExecuteTime": {
     "end_time": "2024-05-07T13:29:12.241975Z",
     "start_time": "2024-05-07T13:29:12.092049Z"
    },
    "collapsed": false,
    "jupyter": {
     "outputs_hidden": false
    }
   },
   "outputs": [
    {
     "name": "stdout",
     "output_type": "stream",
     "text": [
      "\u001b[1m======================================= test session starts =======================================\u001b[0m\n",
      "platform win32 -- Python 3.11.5, pytest-8.2.0, pluggy-1.5.0\n",
      "rootdir: C:\\Users\\Настя\\PycharmProjects\\MLO\n",
      "plugins: anyio-4.3.0\n",
      "collected 2 items\n",
      "\n",
      "t_f69eb562099b4014b66ea18549e6b87d.py \u001b[32m.\u001b[0m\u001b[31mF\u001b[0m\u001b[31m                                                     [100%]\u001b[0m\n",
      "\n",
      "============================================ FAILURES =============================================\n",
      "\u001b[31m\u001b[1m___________________________________ test_model_on_noisy_target ____________________________________\u001b[0m\n",
      "\n",
      "    \u001b[0m\u001b[94mdef\u001b[39;49;00m \u001b[92mtest_model_on_noisy_target\u001b[39;49;00m():\u001b[90m\u001b[39;49;00m\n",
      "        X_noisy_target = df_noisy_target.drop(\u001b[33m'\u001b[39;49;00m\u001b[33mTarget\u001b[39;49;00m\u001b[33m'\u001b[39;49;00m, axis=\u001b[94m1\u001b[39;49;00m)\u001b[90m\u001b[39;49;00m\n",
      "        y_noisy_target = df_noisy_target[\u001b[33m'\u001b[39;49;00m\u001b[33mTarget\u001b[39;49;00m\u001b[33m'\u001b[39;49;00m]\u001b[90m\u001b[39;49;00m\n",
      "        _, X_test_noisy_target, _, y_test_noisy_target = train_test_split(X_noisy_target, y_noisy_target, test_size=\u001b[94m0.2\u001b[39;49;00m, random_state=\u001b[94m42\u001b[39;49;00m)\u001b[90m\u001b[39;49;00m\n",
      "        predictions = model.predict(X_test_noisy_target)\u001b[90m\u001b[39;49;00m\n",
      "        mse = mean_squared_error(y_test_noisy_target, predictions)\u001b[90m\u001b[39;49;00m\n",
      "        \u001b[96mprint\u001b[39;49;00m(\u001b[33m\"\u001b[39;49;00m\u001b[33mMSE on Noisy Target Data:\u001b[39;49;00m\u001b[33m\"\u001b[39;49;00m, mse)\u001b[90m\u001b[39;49;00m\n",
      ">       \u001b[94massert\u001b[39;49;00m mse < \u001b[94m6.7\u001b[39;49;00m \u001b[90m# тут что тест провален\u001b[39;49;00m\u001b[90m\u001b[39;49;00m\n",
      "\u001b[1m\u001b[31mE       assert 8.629408362837923 < 6.7\u001b[0m\n",
      "\n",
      "\u001b[1m\u001b[31mC:\\Users\\Настя\\AppData\\Local\\Temp\\ipykernel_8580\\1009192537.py\u001b[0m:19: AssertionError\n",
      "-------------------------------------- Captured stdout call ---------------------------------------\n",
      "MSE on Noisy Target Data: 8.629408362837923\n",
      "\u001b[36m\u001b[1m===================================== short test summary info =====================================\u001b[0m\n",
      "\u001b[31mFAILED\u001b[0m t_f69eb562099b4014b66ea18549e6b87d.py::\u001b[1mtest_model_on_noisy_target\u001b[0m - assert 8.629408362837923 < 6.7\n",
      "\u001b[31m=================================== \u001b[31m\u001b[1m1 failed\u001b[0m, \u001b[32m1 passed\u001b[0m\u001b[31m in 0.02s\u001b[0m\u001b[31m ===================================\u001b[0m\n"
     ]
    },
    {
     "data": {
      "text/plain": [
       "<ExitCode.TESTS_FAILED: 1>"
      ]
     },
     "execution_count": 15,
     "metadata": {},
     "output_type": "execute_result"
    }
   ],
   "source": [
    "ipytest.autoconfig()\n",
    "\n",
    "def test_model_on_noisy_features():\n",
    "    X_noisy_features = df_noisy_features.drop('Target', axis=1)\n",
    "    y_noisy_features = df_noisy_features['Target']\n",
    "    _, X_test_noisy_features, _, y_test_noisy_features = train_test_split(X_noisy_features, y_noisy_features, test_size=0.2, random_state=42)\n",
    "    predictions = model.predict(X_test_noisy_features)\n",
    "    mse = mean_squared_error(y_test_noisy_features, predictions)\n",
    "    print(\"MSE on Noisy Features Data:\", mse)\n",
    "    assert mse > 6.7 # тут проверяю, что тест проходит\n",
    "\n",
    "def test_model_on_noisy_target():\n",
    "    X_noisy_target = df_noisy_target.drop('Target', axis=1)\n",
    "    y_noisy_target = df_noisy_target['Target']\n",
    "    _, X_test_noisy_target, _, y_test_noisy_target = train_test_split(X_noisy_target, y_noisy_target, test_size=0.2, random_state=42)\n",
    "    predictions = model.predict(X_test_noisy_target)\n",
    "    mse = mean_squared_error(y_test_noisy_target, predictions)\n",
    "    print(\"MSE on Noisy Target Data:\", mse)\n",
    "    assert mse < 6.7 # тут что тест провален \n",
    "\n",
    "ipytest.run('-v')\n"
   ]
  },
  {
   "cell_type": "code",
   "execution_count": 8,
   "id": "fbc30c23e5580094",
   "metadata": {
    "ExecuteTime": {
     "end_time": "2024-05-07T13:23:29.228028Z",
     "start_time": "2024-05-07T13:23:29.159455Z"
    },
    "collapsed": false,
    "jupyter": {
     "outputs_hidden": false
    }
   },
   "outputs": [],
   "source": []
  }
 ],
 "metadata": {
  "kernelspec": {
   "display_name": "Python 3 (ipykernel)",
   "language": "python",
   "name": "python3"
  },
  "language_info": {
   "codemirror_mode": {
    "name": "ipython",
    "version": 3
   },
   "file_extension": ".py",
   "mimetype": "text/x-python",
   "name": "python",
   "nbconvert_exporter": "python",
   "pygments_lexer": "ipython3",
   "version": "3.11.5"
  }
 },
 "nbformat": 4,
 "nbformat_minor": 5
}
